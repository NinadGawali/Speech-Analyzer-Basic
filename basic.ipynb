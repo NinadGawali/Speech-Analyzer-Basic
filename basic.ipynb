{
 "cells": [
  {
   "cell_type": "code",
   "execution_count": 2,
   "id": "c164f651",
   "metadata": {},
   "outputs": [],
   "source": [
    "import requests\n",
    "from bs4 import BeautifulSoup\n",
    "import json\n",
    "import os\n",
    "from langchain.text_splitter import RecursiveCharacterTextSplitter\n",
    "from langchain_community.vectorstores import FAISS\n",
    "from langchain_community.embeddings import OllamaEmbeddings\n",
    "from langchain_community.docstore.document import Document\n"
   ]
  },
  {
   "cell_type": "code",
   "execution_count": 3,
   "id": "be3c87bd",
   "metadata": {},
   "outputs": [],
   "source": [
    "os.makedirs(\"data\", exist_ok=True)\n",
    "os.makedirs(\"vectorstore\", exist_ok=True)\n"
   ]
  },
  {
   "cell_type": "code",
   "execution_count": 6,
   "id": "256de960",
   "metadata": {},
   "outputs": [
    {
     "name": "stdout",
     "output_type": "stream",
     "text": [
      "Saved 40 speeches.\n"
     ]
    }
   ],
   "source": [
    "url = \"https://highspark.co/famous-persuasive-speeches/\"\n",
    "response = requests.get(url)\n",
    "soup = BeautifulSoup(response.content, \"html.parser\")\n",
    "\n",
    "speeches = []\n",
    "\n",
    "for h2 in soup.find_all(\"h2\"):\n",
    "    title = h2.get_text(strip=True)\n",
    "    blockquote = h2.find_next(\"blockquote\")\n",
    "    background_p = blockquote.find_next(\"p\") if blockquote else None\n",
    "\n",
    "    if blockquote:\n",
    "        speech_text = blockquote.get_text(strip=True)\n",
    "        background = background_p.get_text(strip=True) if background_p else \"\"\n",
    "        speeches.append({\n",
    "            \"title\": title,\n",
    "            \"text\": speech_text,\n",
    "            \"background\": background\n",
    "        })\n",
    "\n",
    "with open(\"data/speeches.json\", \"w\") as f:\n",
    "    json.dump(speeches, f, indent=2)\n",
    "\n",
    "print(f\"Saved {len(speeches)} speeches.\")\n"
   ]
  },
  {
   "cell_type": "code",
   "execution_count": 7,
   "id": "e136c583",
   "metadata": {},
   "outputs": [],
   "source": [
    "with open(\"data/speeches.json\") as f:\n",
    "    speeches = json.load(f)\n",
    "\n",
    "documents = []\n",
    "splitter = RecursiveCharacterTextSplitter(chunk_size=500, chunk_overlap=100)\n",
    "\n",
    "for speech in speeches:\n",
    "    full_text = f\"{speech['text']}\\n\\nBackground:\\n{speech['background']}\"\n",
    "    chunks = splitter.split_text(full_text)\n",
    "    for chunk in chunks:\n",
    "        documents.append(Document(page_content=chunk, metadata={\"title\": speech[\"title\"]}))\n"
   ]
  },
  {
   "cell_type": "code",
   "execution_count": 8,
   "id": "3b3c78b8",
   "metadata": {},
   "outputs": [
    {
     "name": "stderr",
     "output_type": "stream",
     "text": [
      "C:\\Users\\JCIN\\AppData\\Local\\Temp\\ipykernel_7432\\2370184254.py:5: LangChainDeprecationWarning: The class `OllamaEmbeddings` was deprecated in LangChain 0.3.1 and will be removed in 1.0.0. An updated version of the class exists in the :class:`~langchain-ollama package and should be used instead. To use it run `pip install -U :class:`~langchain-ollama` and import as `from :class:`~langchain_ollama import OllamaEmbeddings``.\n",
      "  embedding = OllamaEmbeddings(model=\"mistral\")\n"
     ]
    },
    {
     "name": "stdout",
     "output_type": "stream",
     "text": [
      "Vector store created and saved successfully.\n"
     ]
    }
   ],
   "source": [
    "from langchain.vectorstores import FAISS\n",
    "from langchain.embeddings import OllamaEmbeddings\n",
    "\n",
    "# Initialize Ollama Mistral embedding\n",
    "embedding = OllamaEmbeddings(model=\"mistral\")\n",
    "\n",
    "# Build FAISS vector store from documents\n",
    "db = FAISS.from_documents(documents, embedding)\n",
    "\n",
    "# Save vector store locally\n",
    "db.save_local(\"vectorstore/faiss_index\")\n",
    "\n",
    "print(\"Vector store created and saved successfully.\")\n"
   ]
  },
  {
   "cell_type": "code",
   "execution_count": 12,
   "id": "1064283a",
   "metadata": {},
   "outputs": [
    {
     "name": "stdout",
     "output_type": "stream",
     "text": [
      "Title: 30. Black Power Address at UC Berkeley by Stokely Carmichael\n",
      "Content: to sanction Black Power. We’re tired waiting; every time black people move in this country, they’re forced to defend their position before they move. It’s time that the people who are supposed to be defending their position do that. That’s white people. They ought to start defending themselves as to why they have oppressed and exploited us.”\n",
      "\n",
      "Score: 133587.265625\n",
      "\n",
      "Title: 35. Questioning the Universe by Stephen Hawking\n",
      "Content: show that we have made remarkable progress in the last hundred years. But if we want to continue beyond the next hundred years, our future is in space. That is why I am in favor of manned — or should I say, personned — space flight.”\n",
      "\n",
      "Score: 135536.296875\n",
      "\n",
      "Title: 21. June 9 Speech to Martial Law Units by Deng Xiaoping\n",
      "Content: Perhaps this bad thing will enable us to go ahead with reform and the open policy at a steadier and better — even a faster — pace, more speedily correct our mistakes, and better develop our strong points.”\n",
      "\n",
      "Score: 136037.03125\n",
      "\n"
     ]
    }
   ],
   "source": [
    "query = \"What did Queen Elizabeth I say about her role in the war against Spain?\"\n",
    "results = db.similarity_search_with_score(query, k=3)\n",
    "\n",
    "for doc, score in results:\n",
    "    print(f\"Title: {doc.metadata['title']}\")\n",
    "    print(f\"Content: {doc.page_content}\\n\")\n",
    "    print(f\"Score: {score}\\n\")\n"
   ]
  },
  {
   "cell_type": "code",
   "execution_count": null,
   "id": "8c4b9440",
   "metadata": {},
   "outputs": [],
   "source": []
  }
 ],
 "metadata": {
  "kernelspec": {
   "display_name": "Python 3",
   "language": "python",
   "name": "python3"
  },
  "language_info": {
   "codemirror_mode": {
    "name": "ipython",
    "version": 3
   },
   "file_extension": ".py",
   "mimetype": "text/x-python",
   "name": "python",
   "nbconvert_exporter": "python",
   "pygments_lexer": "ipython3",
   "version": "3.10.16"
  }
 },
 "nbformat": 4,
 "nbformat_minor": 5
}
